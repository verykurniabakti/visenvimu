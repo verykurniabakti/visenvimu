{
 "cells": [
  {
   "cell_type": "code",
   "execution_count": 24,
   "id": "d2365f48",
   "metadata": {},
   "outputs": [
    {
     "name": "stdout",
     "output_type": "stream",
     "text": [
      "<class 'pandas.core.frame.DataFrame'>\n",
      "RangeIndex: 1085 entries, 0 to 1084\n",
      "Data columns (total 7 columns):\n",
      " #   Column  Non-Null Count  Dtype  \n",
      "---  ------  --------------  -----  \n",
      " 0   ax      1085 non-null   object \n",
      " 1   ay      1085 non-null   object \n",
      " 2   az      1085 non-null   float64\n",
      " 3   gx      1085 non-null   float64\n",
      " 4   gy      1085 non-null   float64\n",
      " 5   gz      1085 non-null   float64\n",
      " 6   label   1085 non-null   int64  \n",
      "dtypes: float64(4), int64(1), object(2)\n",
      "memory usage: 59.5+ KB\n",
      "None\n",
      "         ax        ay        az        gx        gy        gz  label\n",
      "0 -0.078629 -0.072346  0.328973 -0.030680 -0.117878 -0.096649      1\n",
      "1  0.027023  0.135176  0.212524 -0.082713  0.010752  0.040630      1\n",
      "2  0.127246   0.04087 -0.545340 -0.049066  0.074546  0.170800      1\n",
      "3  0.009516  0.053802 -0.926224 -0.057500  0.105462 -0.438776      1\n",
      "4 -0.006466  0.918721  0.430050 -0.146734  0.144089  0.588326      1\n",
      "Data berhasil dibersihkan dan disimpan sebagai 'data_imu_clean1.csv'\n"
     ]
    }
   ],
   "source": [
    "### Load data IMU CSV dan dibersihkan tahap 1###\n",
    "import pandas as pd\n",
    "\n",
    "\n",
    "\n",
    "# Baca data CSVju\n",
    "df = pd.read_excel('imudata_baru.xlsx')\n",
    "\n",
    "# 1. Tampilkan info umum data\n",
    "print(df.info())\n",
    "print(df.head())\n",
    "\n",
    "# 2. Buang kolom yang tidak relevan (ganti 'kolom_tidak_dipakai' sesuai kebutuhan)\n",
    "# df.drop(columns=['kolom_tidak_dipakai'], inplace=True)\n",
    "\n",
    "# 3. Tangani nilai hilang (missing values)\n",
    "# Contoh: isi dengan median, hapus, atau metode lain\n",
    "# df = df.dropna()  # jika ingin langsung membuang baris yang ada NaN\n",
    "# df['kolom_angka'] = df['kolom_angka'].fillna(df['kolom_angka'].median())\n",
    "\n",
    "# 4. Bersihkan data string, misalnya hapus spasi putih atau ubah ke lowercase\n",
    "# df['nama_kolom'] = df['nama_kolom'].str.strip().str.lower()\n",
    "\n",
    "# 5. Ubah tipe data jika perlu\n",
    "# df['tanggal'] = pd.to_datetime(df['tanggal'], errors='coerce')\n",
    "# df['angka'] = pd.to_numeric(df['angka'], errors='coerce')\n",
    "\n",
    "# 6. Buang duplikat\n",
    "df.drop_duplicates(inplace=True)\n",
    "\n",
    "# 7. Simpan data yang sudah dibersihkan\n",
    "df.to_csv('data_imu_clean1.csv', index=False)\n",
    "print(\"Data berhasil dibersihkan dan disimpan sebagai 'data_imu_clean1.csv'\")\n"
   ]
  },
  {
   "cell_type": "code",
   "execution_count": 25,
   "id": "eaa18ae2",
   "metadata": {},
   "outputs": [
    {
     "name": "stdout",
     "output_type": "stream",
     "text": [
      "File bersih disimpan sebagai: data_imu_oke_clean_01.csv\n",
      "Data berhasil dibersihkan dari nilai yang tidak bisa dikonversi.\n"
     ]
    },
    {
     "name": "stderr",
     "output_type": "stream",
     "text": [
      "/var/folders/lt/2mkl6ry53ll9fdk2br6skfgw0000gn/T/ipykernel_18389/2765075861.py:7: FutureWarning: DataFrame.applymap has been deprecated. Use DataFrame.map instead.\n",
      "  df = df.applymap(lambda x: str(x).strip() if isinstance(x, str) else x)\n"
     ]
    }
   ],
   "source": [
    "import pandas as pd\n",
    "\n",
    "# Load CSV dan paksa semua nilai ke bentuk numerik\n",
    "df = pd.read_csv(\"data_imu_clean1.csv\")\n",
    "\n",
    "# Buang spasi putih di awal/akhir sel\n",
    "df = df.applymap(lambda x: str(x).strip() if isinstance(x, str) else x)\n",
    "\n",
    "# Konversi semua kolom ke numeric jika bisa, dan paksa NaN jika gagal\n",
    "for col in df.select_dtypes(include=['object', 'string']).columns:\n",
    "    df[col] = df[col].map(lambda x: str(x).strip() if isinstance(x, str) else x)\n",
    "\n",
    "df[df.select_dtypes(include='object').columns] = (\n",
    "    df.select_dtypes(include='object')\n",
    "      .apply(lambda col: col.map(lambda x: x.strip() if isinstance(x, str) else x))\n",
    ")\n",
    "\n",
    "\n",
    "\n",
    "# Drop baris dengan NaN akibat parsing gagal\n",
    "df.dropna(inplace=True)\n",
    "df.to_csv(\"data_imu_clean_01.csv\", index=False)\n",
    "print(\"File bersih disimpan sebagai: data_imu_oke_clean_01.csv\")\n",
    "\n",
    "print(\"Data berhasil dibersihkan dari nilai yang tidak bisa dikonversi.\")\n"
   ]
  },
  {
   "cell_type": "code",
   "execution_count": 26,
   "id": "cbd44109",
   "metadata": {},
   "outputs": [
    {
     "name": "stdout",
     "output_type": "stream",
     "text": [
      "Label yang ditemukan: [ 1  0 10]\n"
     ]
    }
   ],
   "source": [
    "### Visualisasi data IMU\n",
    "import pandas as pd\n",
    "import matplotlib.pyplot as plt\n",
    "\n",
    "# Baca file CSV\n",
    "df = pd.read_csv(\"data_imu_oke.csv\")\n",
    "\n",
    "# Tampilkan label unik\n",
    "print(\"Label yang ditemukan:\", df['label'].unique())\n",
    "\n",
    "# Loop visualisasi per label\n",
    "for label in sorted(df['label'].unique()):\n",
    "    subset = df[df['label'] == label].reset_index(drop=True)\n",
    "\n",
    "    fig, axs = plt.subplots(2, 1, figsize=(14, 6), sharex=True)\n",
    "    fig.suptitle(f'Sinyal IMU - Label {label}', fontsize=16)\n",
    "\n",
    "    # Akselerometer\n",
    "    axs[0].plot(subset['ax'], label='Ax', alpha=0.7)\n",
    "    axs[0].plot(subset['ay'], label='Ay', alpha=0.7)\n",
    "    axs[0].plot(subset['az'], label='Az', alpha=0.7)\n",
    "    axs[0].set_ylabel('Accelerometer (g)')\n",
    "    axs[0].legend()\n",
    "    axs[0].grid(True)\n",
    "\n",
    "    # Gyroscope\n",
    "    axs[1].plot(subset['gx'], label='Gx', alpha=0.7)\n",
    "    axs[1].plot(subset['gy'], label='Gy', alpha=0.7)\n",
    "    axs[1].plot(subset['gz'], label='Gz', alpha=0.7)\n",
    "    axs[1].set_ylabel('Gyroscope (°/s)')\n",
    "    axs[1].set_xlabel('Index Sampel')\n",
    "    axs[1].legend()\n",
    "    axs[1].grid(True)"
   ]
  },
  {
   "cell_type": "code",
   "execution_count": 27,
   "id": "ee9f85f0",
   "metadata": {},
   "outputs": [],
   "source": [
    "import matplotlib.pyplot as plt\n",
    "\n",
    "def plot_imu_combined(subset, save_path=\"imu_visual.png\"):\n",
    "    fig, axs = plt.subplots(2, 1, figsize=(12, 6), sharex=True)\n",
    "\n",
    "    # Akselerometer\n",
    "    axs[0].plot(subset['ax'], label='Ax', alpha=0.7)\n",
    "    axs[0].plot(subset['ay'], label='Ay', alpha=0.7)\n",
    "    axs[0].plot(subset['az'], label='Az', alpha=0.7)\n",
    "    axs[0].set_ylabel('Accelerometer (g)')\n",
    "    axs[0].set_title('Sinyal Akselerometer')\n",
    "    axs[0].legend()\n",
    "    axs[0].grid(True)\n",
    "\n",
    "    # Gyroscope\n",
    "    axs[1].plot(subset['gx'], label='Gx', alpha=0.7)\n",
    "    axs[1].plot(subset['gy'], label='Gy', alpha=0.7)\n",
    "    axs[1].plot(subset['gz'], label='Gz', alpha=0.7)\n",
    "    axs[1].set_ylabel('Gyroscope (°/s)')\n",
    "    axs[1].set_xlabel('Index Sampel')\n",
    "    axs[1].set_title('Sinyal Gyroscope')\n",
    "    axs[1].legend()\n",
    "    axs[1].grid(True)\n",
    "\n",
    "    plt.tight_layout()\n",
    "    plt.savefig(save_path, dpi=300)\n",
    "    print(f\"📸 Grafik berhasil disimpan ke: {save_path}\")\n",
    "    plt.show()\n"
   ]
  },
  {
   "cell_type": "code",
   "execution_count": 28,
   "id": "46b6f743",
   "metadata": {},
   "outputs": [
    {
     "name": "stdout",
     "output_type": "stream",
     "text": [
      "Gambar disimpan sebagai: imu_2color_labels_axes.png\n"
     ]
    },
    {
     "name": "stderr",
     "output_type": "stream",
     "text": [
      "/var/folders/lt/2mkl6ry53ll9fdk2br6skfgw0000gn/T/ipykernel_18389/4252574187.py:49: UserWarning: FigureCanvasAgg is non-interactive, and thus cannot be shown\n",
      "  plt.show()\n"
     ]
    }
   ],
   "source": [
    "import pandas as pd\n",
    "import matplotlib.pyplot as plt\n",
    "\n",
    "# Load data\n",
    "df = pd.read_csv(\"data_imu_oke.csv\")\n",
    "unique_labels = sorted(df['label'].unique())\n",
    "axes_acc = ['ax', 'ay', 'az']\n",
    "axes_gyro = ['gx', 'gy', 'gz']\n",
    "total_plots = len(unique_labels) * (len(axes_acc) + len(axes_gyro))\n",
    "\n",
    "# Definisi warna\n",
    "acc_color = 'tab:blue'\n",
    "gyro_color = 'tab:red'\n",
    "\n",
    "# Buat grid subplot\n",
    "cols = 3\n",
    "rows = total_plots // cols + (total_plots % cols != 0)\n",
    "fig, axs = plt.subplots(rows, cols, figsize=(18, 4 * rows))\n",
    "fig.suptitle(\"Sinyal IMU Terpisah - Label & Sumbu (2 Warna: Acc vs Gyro)\", fontsize=20)\n",
    "axs = axs.flatten()\n",
    "\n",
    "plot_idx = 0\n",
    "for label in unique_labels:\n",
    "    subset = df[df['label'] == label].reset_index(drop=True)\n",
    "\n",
    "    for axis in axes_acc:\n",
    "        axs[plot_idx].plot(subset[axis], color=acc_color)\n",
    "        axs[plot_idx].set_title(f'Label {label} - {axis.upper()} (Accel)', fontsize=10)\n",
    "        axs[plot_idx].set_xlabel('Index Sampel')\n",
    "        axs[plot_idx].set_ylabel('Nilai')\n",
    "        axs[plot_idx].grid(True)\n",
    "        plot_idx += 1\n",
    "\n",
    "    for axis in axes_gyro:\n",
    "        axs[plot_idx].plot(subset[axis], color=gyro_color)\n",
    "        axs[plot_idx].set_title(f'Label {label} - {axis.upper()} (Gyro)', fontsize=10)\n",
    "        axs[plot_idx].set_xlabel('Index Sampel')\n",
    "        axs[plot_idx].set_ylabel('Nilai')\n",
    "        axs[plot_idx].grid(True)\n",
    "        plot_idx += 1\n",
    "\n",
    "# Kosongkan subplot sisa jika ada\n",
    "for i in range(plot_idx, len(axs)):\n",
    "    fig.delaxes(axs[i])\n",
    "\n",
    "plt.tight_layout(rect=[0, 0, 1, 0.97])\n",
    "plt.savefig(\"imu_2color_labels_axes.png\", dpi=300)\n",
    "print(\"Gambar disimpan sebagai: imu_2color_labels_axes.png\")\n",
    "plt.show()\n"
   ]
  },
  {
   "cell_type": "code",
   "execution_count": 29,
   "id": "7da1ed28",
   "metadata": {},
   "outputs": [
    {
     "name": "stdout",
     "output_type": "stream",
     "text": [
      "✅ Data berhasil diekspor per-label ke folder 'exports' dalam mode 'both'\n"
     ]
    }
   ],
   "source": [
    "import os\n",
    "\n",
    "def export_all_label_tables(df, mode='csv', output_dir='exports'):\n",
    "    os.makedirs(output_dir, exist_ok=True)\n",
    "\n",
    "    if 'label' not in df.columns:\n",
    "        raise ValueError(\"Kolom 'label' tidak ditemukan dalam dataframe.\")\n",
    "\n",
    "    for label in df['label'].unique():\n",
    "        label_df = df[df['label'] == label].copy()\n",
    "        filename_base = os.path.join(output_dir, f\"label_{label}\")\n",
    "\n",
    "        if mode in ['csv', 'both']:\n",
    "            label_df.to_csv(f\"{filename_base}.csv\", index=False)\n",
    "        if mode in ['excel', 'both']:\n",
    "            label_df.to_excel(f\"{filename_base}.xlsx\", index=False)\n",
    "\n",
    "    print(f\"✅ Data berhasil diekspor per-label ke folder '{output_dir}' dalam mode '{mode}'\")\n",
    "\n",
    "export_all_label_tables(df, mode='both')\n"
   ]
  },
  {
   "cell_type": "code",
   "execution_count": 30,
   "id": "542f9fe9",
   "metadata": {},
   "outputs": [],
   "source": [
    "import matplotlib\n",
    "matplotlib.use('Agg')  # Backend non-GUI untuk menyimpan file\n",
    "\n",
    "def export_all_label_tables(df, mode='both', save_prefix='cuplikan_per_label'):\n",
    "    import matplotlib.pyplot as plt\n",
    "\n",
    "    all_samples = []\n",
    "    for label in sorted(df['label'].unique()):\n",
    "        sample = df[df['label'] == label][['ax', 'ay', 'az', 'gx', 'gy', 'gz']]\n",
    "        sample = sample.head(5).copy()\n",
    "        sample['label'] = label\n",
    "        all_samples.append(sample)\n",
    "\n",
    "    df_combined = pd.concat(all_samples, ignore_index=True)\n",
    "\n",
    "    # ✅ Simpan sebagai PNG\n",
    "    if mode in ['png', 'both']:\n",
    "        fig, ax = plt.subplots(figsize=(12, max(2, len(df_combined) // 3)))\n",
    "        ax.axis('off')\n",
    "        tbl = ax.table(cellText=df_combined.values,\n",
    "                       colLabels=df_combined.columns,\n",
    "                       cellLoc='center',\n",
    "                       loc='center')\n",
    "        tbl.auto_set_font_size(False)\n",
    "        tbl.set_fontsize(9)\n",
    "        tbl.scale(1.2, 1.4)\n",
    "        plt.title(\"Cuplikan Data IMU per Label (5 Baris)\", fontsize=14)\n",
    "        plt.tight_layout()\n",
    "        plt.savefig(f\"{save_prefix}.png\", dpi=300)\n",
    "        print(f\"PNG disimpan sebagai: {save_prefix}.png\")\n",
    "        plt.close()\n",
    "\n",
    "    # 📄 Simpan sebagai Tabel LaTeX\n",
    "    if mode in ['latex', 'both']:\n",
    "        latex_table = df_combined.to_latex(index=False, caption='Cuplikan Data IMU per Label (5 Baris)', label='tab:cuplikan_imu')\n",
    "\n",
    "        with open(f\"{save_prefix}.tex\", \"w\", encoding=\"utf-8\") as f:\n",
    "            f.write(\"\\\\begin{table}[htbp]\\n\\\\centering\\n\")\n",
    "            f.write(latex_table)\n",
    "            f.write(\"\\\\end{table}\\n\")\n",
    "        \n",
    "        print(f\"LaTeX disimpan sebagai: {save_prefix}.tex\")\n"
   ]
  },
  {
   "cell_type": "code",
   "execution_count": 31,
   "id": "9aaab4e2",
   "metadata": {},
   "outputs": [
    {
     "name": "stdout",
     "output_type": "stream",
     "text": [
      "PNG disimpan sebagai: cuplikan_per_label.png\n",
      "LaTeX disimpan sebagai: cuplikan_per_label.tex\n"
     ]
    }
   ],
   "source": [
    "export_all_label_tables(df, mode='both', save_prefix='cuplikan_per_label')\n"
   ]
  },
  {
   "cell_type": "code",
   "execution_count": 32,
   "id": "4650c220",
   "metadata": {},
   "outputs": [],
   "source": [
    "#### Proses ekstract fitur FFT frekwensi dominan\n",
    "import numpy as np\n",
    "import pandas as pd\n",
    "from scipy.stats import entropy\n",
    "from scipy.fft import rfft\n",
    "\n",
    "def extract_features(window):\n",
    "    features = {}\n",
    "    for axis in window.columns:\n",
    "        signal = window[axis].values\n",
    "\n",
    "        features[f'{axis}_mean'] = np.mean(signal)\n",
    "        features[f'{axis}_std'] = np.std(signal)\n",
    "        features[f'{axis}_max'] = np.max(signal)\n",
    "        features[f'{axis}_min'] = np.min(signal)\n",
    "        features[f'{axis}_energy'] = np.sum(signal**2)\n",
    "        features[f'{axis}_entropy'] = entropy(np.histogram(signal, bins=20, density=True)[0] + 1e-8)\n",
    "\n",
    "        # FFT: dominant frequency\n",
    "        fft_vals = np.abs(rfft(signal))\n",
    "        fft_freqs = np.fft.rfftfreq(len(signal), d=1)\n",
    "        dom_freq = fft_freqs[np.argmax(fft_vals[1:]) + 1]  # skip DC\n",
    "        features[f'{axis}_dominant_freq'] = dom_freq\n",
    "    return features\n",
    "\n",
    "def build_feature_dataframe_from_imu(df, fs=50, window_duration=2, stride_ratio=0.5):\n",
    "    window_size = int(fs * window_duration)\n",
    "    stride_size = int(window_size * stride_ratio)\n",
    "\n",
    "    df = df.copy()\n",
    "    df.columns = df.columns.str.strip().str.lower()\n",
    "\n",
    "    data = []\n",
    "    for start in range(0, len(df) - window_size + 1, stride_size):\n",
    "        end = start + window_size\n",
    "        window = df.iloc[start:end]\n",
    "        if 'label' not in window.columns:\n",
    "            continue\n",
    "\n",
    "        label = window['label'].mode().values[0]\n",
    "        window_data = window.drop(columns=['label'])\n",
    "\n",
    "        feats = extract_features(window_data)\n",
    "        feats['label'] = label\n",
    "        data.append(feats)\n",
    "\n",
    "    return pd.DataFrame(data)\n"
   ]
  },
  {
   "cell_type": "code",
   "execution_count": 33,
   "id": "04b2ea02",
   "metadata": {},
   "outputs": [],
   "source": [
    "### mulai FFT\n",
    "import matplotlib.pyplot as plt\n",
    "import numpy as np\n",
    "from scipy.fft import rfft, rfftfreq\n",
    "\n",
    "def plot_fft_single_window(window, fs=50, save_path=\"fft_output.png\"):\n",
    "    window = window.drop(columns=['label'], errors='ignore')\n",
    "    sample_count = window.shape[0]\n",
    "    time_vector = np.arange(sample_count) / fs\n",
    "\n",
    "    plt.figure(figsize=(12, 4 * len(window.columns)))\n",
    "\n",
    "    for i, axis in enumerate(window.columns):\n",
    "        signal = window[axis].values\n",
    "        fft_vals = np.abs(rfft(signal))\n",
    "        fft_freqs = rfftfreq(sample_count, d=1/fs)\n",
    "\n",
    "        plt.subplot(len(window.columns), 1, i + 1)\n",
    "        plt.plot(fft_freqs, fft_vals, color='orange')\n",
    "        plt.title(f\"FFT - Axis {axis}\")\n",
    "        plt.xlabel(\"Frekuensi (Hz)\")\n",
    "        plt.ylabel(\"Magnitudo\")\n",
    "        plt.grid(True)\n",
    "\n",
    "    plt.tight_layout()\n",
    "    plt.savefig(save_path, dpi=300)  # Simpan ke PNG sebelum show\n",
    "    print(f\"FFT disimpan sebagai: {save_path}\")\n",
    "    plt.show()\n"
   ]
  },
  {
   "cell_type": "code",
   "execution_count": 34,
   "id": "00943c02",
   "metadata": {},
   "outputs": [
    {
     "name": "stdout",
     "output_type": "stream",
     "text": [
      "FFT disimpan sebagai: fft_output.png\n"
     ]
    },
    {
     "name": "stderr",
     "output_type": "stream",
     "text": [
      "/var/folders/lt/2mkl6ry53ll9fdk2br6skfgw0000gn/T/ipykernel_18389/2309040837.py:28: UserWarning: FigureCanvasAgg is non-interactive, and thus cannot be shown\n",
      "  plt.show()\n"
     ]
    }
   ],
   "source": [
    "#### Mulai Visualkan FFT per sumbu\n",
    "import pandas as pd\n",
    "\n",
    "df_raw = pd.read_csv(\"data_imu_oke.csv\")  # Pastikan nama file sesuai dan path-nya benar\n",
    "window_label_10 = df_raw[df_raw['label'] == 10].iloc[0:100]\n",
    "plot_fft_single_window(window_label_10, fs=50)\n"
   ]
  },
  {
   "cell_type": "code",
   "execution_count": 35,
   "id": "78f4cb58",
   "metadata": {},
   "outputs": [],
   "source": [
    "import matplotlib.pyplot as plt\n",
    "import numpy as np\n",
    "from scipy.fft import rfft, rfftfreq\n",
    "\n",
    "def compare_fft_by_label(df_raw, fs=50, window_size=100, axis='ax', max_labels=3, save_path=\"fft_per_label.png\"):\n",
    "    unique_labels = df_raw['label'].value_counts().nlargest(max_labels).index\n",
    "\n",
    "    plt.figure(figsize=(10, 4 * len(unique_labels)))\n",
    "    for i, label in enumerate(unique_labels):\n",
    "        df_label = df_raw[df_raw['label'] == label]\n",
    "        window = df_label.iloc[:window_size]\n",
    "        signal = window[axis].values\n",
    "\n",
    "        fft_vals = np.abs(rfft(signal))\n",
    "        fft_freqs = rfftfreq(len(signal), d=1/fs)\n",
    "\n",
    "        plt.subplot(len(unique_labels), 1, i + 1)\n",
    "        plt.plot(fft_freqs, fft_vals, label=f'Label {label}', color='teal')\n",
    "        plt.title(f'FFT Axis {axis} - Label {label}')\n",
    "        plt.xlabel('Frekuensi (Hz)')\n",
    "        plt.ylabel('Magnitudo')\n",
    "        plt.grid(True)\n",
    "        plt.legend()\n",
    "\n",
    "    plt.tight_layout()\n",
    "    plt.savefig(save_path, dpi=300)  # Simpan sebelum tampilkan\n",
    "    print(f\"Gambar FFT per label disimpan sebagai: {save_path}\")\n",
    "    plt.show()\n"
   ]
  },
  {
   "cell_type": "code",
   "execution_count": 36,
   "id": "e2ab4227",
   "metadata": {},
   "outputs": [
    {
     "name": "stdout",
     "output_type": "stream",
     "text": [
      "Gambar FFT per label disimpan sebagai: fft_ax_per_label.png\n"
     ]
    },
    {
     "name": "stderr",
     "output_type": "stream",
     "text": [
      "/var/folders/lt/2mkl6ry53ll9fdk2br6skfgw0000gn/T/ipykernel_18389/2055536968.py:28: UserWarning: FigureCanvasAgg is non-interactive, and thus cannot be shown\n",
      "  plt.show()\n"
     ]
    }
   ],
   "source": [
    "### Mulai Visualisasi per label FFT\n",
    "compare_fft_by_label(df_raw, fs=50, axis='ax', window_size=100, max_labels=5,\n",
    "save_path=\"fft_ax_per_label.png\")\n",
    "\n"
   ]
  },
  {
   "cell_type": "code",
   "execution_count": 37,
   "id": "5cdc8315",
   "metadata": {},
   "outputs": [
    {
     "name": "stdout",
     "output_type": "stream",
     "text": [
      "['ax', 'ay', 'az', 'gx', 'gy', 'gz', 'label']\n"
     ]
    }
   ],
   "source": [
    "print(df_raw.columns.tolist())\n"
   ]
  },
  {
   "cell_type": "code",
   "execution_count": 38,
   "id": "c6488c85",
   "metadata": {},
   "outputs": [],
   "source": [
    "import matplotlib.pyplot as plt\n",
    "import numpy as np\n",
    "from scipy.fft import rfft, rfftfreq\n",
    "\n",
    "def plot_fft_comparison_single_frame(df_raw, fs=50, window_size=100, axis='Ax', max_labels=3, save_path=\"fft_single_frame.png\"):\n",
    "    \"\"\"\n",
    "    Visualisasi spektrum FFT dari beberapa label dalam 1 frame grafik dan menyimpannya ke PNG\n",
    "    \"\"\"\n",
    "    unique_labels = df_raw['label'].value_counts().nlargest(max_labels).index\n",
    "    fft_freqs = None\n",
    "    plt.figure(figsize=(8, 5))\n",
    "\n",
    "    for label in unique_labels:\n",
    "        df_label = df_raw[df_raw['label'] == label]\n",
    "        window = df_label.iloc[:window_size]\n",
    "\n",
    "        if axis not in window.columns:\n",
    "            print(f\"Kolom '{axis}' tidak ditemukan di window label {label}. Skip.\")\n",
    "            continue\n",
    "\n",
    "        signal = window[axis].values\n",
    "        fft_vals = np.abs(rfft(signal))\n",
    "        fft_freqs = rfftfreq(len(signal), d=1/fs)\n",
    "\n",
    "        plt.plot(fft_freqs, fft_vals, label=f'Label {label}', linewidth=2)\n",
    "\n",
    "    plt.title(f\"Spektrum FFT Axis '{axis}' per Label\")\n",
    "    plt.xlabel(\"Frekuensi (Hz)\")\n",
    "    plt.ylabel(\"Magnitudo\")\n",
    "    plt.grid(True)\n",
    "    plt.legend()\n",
    "    plt.tight_layout()\n",
    "    plt.savefig(save_path, dpi=300)\n",
    "    print(f\"Gambar disimpan sebagai: {save_path}\")\n",
    "    plt.show()\n",
    "    plt.close()\n"
   ]
  },
  {
   "cell_type": "code",
   "execution_count": 39,
   "id": "515495ce",
   "metadata": {},
   "outputs": [
    {
     "name": "stdout",
     "output_type": "stream",
     "text": [
      "Gambar disimpan sebagai: fft_ax_labels_frame.png\n"
     ]
    },
    {
     "name": "stderr",
     "output_type": "stream",
     "text": [
      "/var/folders/lt/2mkl6ry53ll9fdk2br6skfgw0000gn/T/ipykernel_18389/872239544.py:35: UserWarning: FigureCanvasAgg is non-interactive, and thus cannot be shown\n",
      "  plt.show()\n",
      "/var/folders/lt/2mkl6ry53ll9fdk2br6skfgw0000gn/T/ipykernel_18389/3664026259.py:3: UserWarning: FigureCanvasAgg is non-interactive, and thus cannot be shown\n",
      "  plt.show()\n"
     ]
    }
   ],
   "source": [
    "plot_fft_comparison_single_frame(df_raw, fs=50, window_size=100, axis='ax', max_labels=5,\n",
    "save_path=\"fft_ax_labels_frame.png\")\n",
    "plt.show()\n"
   ]
  },
  {
   "cell_type": "code",
   "execution_count": 40,
   "id": "87cb16ec",
   "metadata": {},
   "outputs": [
    {
     "name": "stdout",
     "output_type": "stream",
     "text": [
      "20 window berhasil diolah.\n",
      "Distribusi label per window:\n",
      "label\n",
      "1     7\n",
      "0     7\n",
      "10    6\n",
      "Name: count, dtype: int64\n"
     ]
    }
   ],
   "source": [
    "### pembuatan features_df\n",
    "import pandas as pd\n",
    "\n",
    "# Baca data\n",
    "df_raw = pd.read_csv(\"data_imu_oke.csv\")\n",
    "\n",
    "# Ekstraksi fitur lengkap\n",
    "features_df = build_feature_dataframe_from_imu(df_raw, fs=50, window_duration=2, stride_ratio=0.5)\n",
    "\n",
    "# Cek hasil\n",
    "print(f\"{features_df.shape[0]} window berhasil diolah.\")\n",
    "print(\"Distribusi label per window:\")\n",
    "print(features_df['label'].value_counts())\n"
   ]
  },
  {
   "cell_type": "code",
   "execution_count": 41,
   "id": "df7e4751",
   "metadata": {},
   "outputs": [],
   "source": [
    "features_df.to_csv(\"features_svm_ready.csv\", index=False)\n"
   ]
  },
  {
   "cell_type": "code",
   "execution_count": 42,
   "id": "c5e0ee8b",
   "metadata": {},
   "outputs": [
    {
     "name": "stderr",
     "output_type": "stream",
     "text": [
      "/var/folders/lt/2mkl6ry53ll9fdk2br6skfgw0000gn/T/ipykernel_18389/130788139.py:5: FutureWarning: \n",
      "\n",
      "Passing `palette` without assigning `hue` is deprecated and will be removed in v0.14.0. Assign the `x` variable to `hue` and set `legend=False` for the same effect.\n",
      "\n",
      "  sns.countplot(data=features_df, x='label', palette='Set2')\n",
      "/var/folders/lt/2mkl6ry53ll9fdk2br6skfgw0000gn/T/ipykernel_18389/130788139.py:15: UserWarning: FigureCanvasAgg is non-interactive, and thus cannot be shown\n",
      "  plt.show()\n"
     ]
    }
   ],
   "source": [
    "import matplotlib.pyplot as plt\n",
    "import seaborn as sns\n",
    "\n",
    "plt.figure(figsize=(8, 4))\n",
    "sns.countplot(data=features_df, x='label', palette='Set2')\n",
    "plt.title(\"Distribusi Label per Window\")\n",
    "plt.xlabel(\"Label Aktivitas\")\n",
    "plt.ylabel(\"Jumlah Window\")\n",
    "plt.tight_layout()\n",
    "\n",
    "# Simpan sebagai file PNG\n",
    "plt.savefig(\"distribusi_label.png\", dpi=300)\n",
    "\n",
    "# Tampilkan gambar langsung\n",
    "plt.show()\n"
   ]
  },
  {
   "cell_type": "code",
   "execution_count": 45,
   "id": "72808268",
   "metadata": {},
   "outputs": [
    {
     "name": "stdout",
     "output_type": "stream",
     "text": [
      "Gambar disimpan sebagai: korelasi_fitur.png\n"
     ]
    },
    {
     "name": "stderr",
     "output_type": "stream",
     "text": [
      "/var/folders/lt/2mkl6ry53ll9fdk2br6skfgw0000gn/T/ipykernel_18389/2089646876.py:11: UserWarning: FigureCanvasAgg is non-interactive, and thus cannot be shown\n",
      "  plt.show()  # Baru tampilkan\n"
     ]
    }
   ],
   "source": [
    "# Hanya fitur numerik (drop kolom 'label' untuk korelasi)\n",
    "corr = features_df.drop(columns=['label']).corr()\n",
    "\n",
    "plt.figure(figsize=(14,12))\n",
    "sns.heatmap(corr, cmap='coolwarm', annot=False, linewidths=0.5)\n",
    "plt.title(\"Korelasi Antar Fitur (Spearman)\")\n",
    "plt.tight_layout()\n",
    "\n",
    "plt.savefig(\"korelasi_fitur.png\", dpi=300)  # Simpan dulu!\n",
    "print(\"Gambar disimpan sebagai: korelasi_fitur.png\")\n",
    "plt.show()  # Baru tampilkan\n",
    "plt.close()  # Tutup figure agar tidak bentrok dengan plot berikutnya\n"
   ]
  }
 ],
 "metadata": {
  "kernelspec": {
   "display_name": ".venv",
   "language": "python",
   "name": "python3"
  },
  "language_info": {
   "codemirror_mode": {
    "name": "ipython",
    "version": 3
   },
   "file_extension": ".py",
   "mimetype": "text/x-python",
   "name": "python",
   "nbconvert_exporter": "python",
   "pygments_lexer": "ipython3",
   "version": "3.12.3"
  }
 },
 "nbformat": 4,
 "nbformat_minor": 5
}
