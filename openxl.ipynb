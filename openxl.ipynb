{
 "cells": [
  {
   "cell_type": "code",
   "execution_count": null,
   "id": "0037b914",
   "metadata": {},
   "outputs": [],
   "source": [
    "import pandas as pd\n",
    "\n",
    "# Replace 'your_file.xlsx' with the path to your Excel file\n",
    "excel_file = pd.ExcelFile('your_file.xlsx')"
   ]
  }
 ],
 "metadata": {
  "kernelspec": {
   "display_name": "IMU Env (3.13.5)",
   "language": "python",
   "name": "visenv"
  },
  "language_info": {
   "name": "python",
   "version": "3.13.5"
  }
 },
 "nbformat": 4,
 "nbformat_minor": 5
}
