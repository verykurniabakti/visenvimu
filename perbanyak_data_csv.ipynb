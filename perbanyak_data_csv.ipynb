{
 "cells": [
  {
   "cell_type": "code",
   "execution_count": 1,
   "id": "e9fd9775",
   "metadata": {},
   "outputs": [
    {
     "name": "stdout",
     "output_type": "stream",
     "text": [
      "✅ CSV loaded successfully: data_imu_oke.csv\n",
      "📌 Shape: (1080, 7)\n",
      "🔍 Column names: ['ax', 'ay', 'az', 'gx', 'gy', 'gz', 'label']\n",
      "🧪 Label distribution:\n",
      " label\n",
      "10    364\n",
      "0     361\n",
      "1     355\n",
      "Name: count, dtype: int64\n"
     ]
    }
   ],
   "source": [
    "import pandas as pd\n",
    "\n",
    "# Ganti dengan nama file yang kamu pakai\n",
    "csv_path = \"data_imu_oke.csv\"\n",
    "\n",
    "try:\n",
    "    df = pd.read_csv(csv_path)\n",
    "    print(f\"✅ CSV loaded successfully: {csv_path}\")\n",
    "    print(\"📌 Shape:\", df.shape)\n",
    "    print(\"🔍 Column names:\", df.columns.tolist())\n",
    "    print(\"🧪 Label distribution:\\n\", df['label'].value_counts())\n",
    "except Exception as e:\n",
    "    print(f\"❌ Failed to load CSV: {e}\")\n"
   ]
  },
  {
   "cell_type": "code",
   "execution_count": 5,
   "id": "62a1e715",
   "metadata": {},
   "outputs": [
    {
     "name": "stdout",
     "output_type": "stream",
     "text": [
      "✅ Dataset tersimpan di: expanded_proportional.csv\n",
      "🧪 Label distribution:\n",
      " label\n",
      "10    3370\n",
      "0     3342\n",
      "1     3287\n",
      "Name: count, dtype: int64\n"
     ]
    }
   ],
   "source": [
    "import pandas as pd\n",
    "\n",
    "def expand_csv_proportionally(df, target_total_rows):\n",
    "    \"\"\"Perbesar dataset agar jumlah baris sesuai target, dengan proporsi label tetap.\"\"\"\n",
    "    # Hitung distribusi asli\n",
    "    label_counts = df['label'].value_counts(normalize=True)\n",
    "\n",
    "    # Hitung jumlah baris yang harus diambil dari masing-masing label\n",
    "    new_counts = (label_counts * target_total_rows).astype(int)\n",
    "\n",
    "    # Ambil sampel per label sesuai jumlah baru\n",
    "    expanded_df = pd.concat([\n",
    "        df[df['label'] == label].sample(n=count, replace=True)\n",
    "        for label, count in new_counts.items()\n",
    "    ], ignore_index=True)\n",
    "\n",
    "    # Shuffle hasil akhir\n",
    "    return expanded_df.sample(frac=1).reset_index(drop=True)\n",
    "\n",
    "def export_to_csv(df, filename=\"expanded_proportional.csv\"):\n",
    "    df.to_csv(filename, index=False)\n",
    "    print(f\"✅ Dataset tersimpan di: {filename}\")\n",
    "\n",
    "# Contoh penggunaan\n",
    "if __name__ == \"__main__\":\n",
    "    df = pd.read_csv(\"data_imu_oke.csv\")\n",
    "    expanded_df = expand_csv_proportionally(df, target_total_rows=10000)\n",
    "    export_to_csv(expanded_df)\n",
    "    print(\"🧪 Label distribution:\\n\", expanded_df['label'].value_counts())"
   ]
  }
 ],
 "metadata": {
  "kernelspec": {
   "display_name": ".venv",
   "language": "python",
   "name": "python3"
  },
  "language_info": {
   "codemirror_mode": {
    "name": "ipython",
    "version": 3
   },
   "file_extension": ".py",
   "mimetype": "text/x-python",
   "name": "python",
   "nbconvert_exporter": "python",
   "pygments_lexer": "ipython3",
   "version": "3.12.3"
  }
 },
 "nbformat": 4,
 "nbformat_minor": 5
}
